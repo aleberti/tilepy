{
 "cells": [
  {
   "cell_type": "code",
   "execution_count": 1,
   "id": "cfb68f4e-6d80-4b7c-b7b3-85ef3ebd82d7",
   "metadata": {},
   "outputs": [],
   "source": [
    "from tilepy.include.UniversalScheduleLauncher import getdate, GetUniversalSchedule\n",
    "from tilepy.include.PointingTools import ObservationParameters, NextWindowTools\n",
    "import time\n",
    "import argparse\n",
    "import os\n"
   ]
  },
  {
   "cell_type": "code",
   "execution_count": 11,
   "id": "8879b037-7d01-41b7-9e57-68488159878b",
   "metadata": {},
   "outputs": [],
   "source": [
    "# Type of followup, options: gbm, gbmpng or gw\n",
    "alertType = 'gw'\n",
    "\n",
    "# The url to the FITS file with the sky localization, e.g.for GW https://urlpath/Bayestar.fits.gz'\n",
    "# You can use https://gracedb.ligo.org/api/superevents/MS230802n/files/bayestar.multiorder.fits,0\n",
    "url =  'https://gracedb.ligo.org/api/superevents/S190814bv/files/LALInference.v1.fits.gz'\n",
    "\n",
    "# Date and time of the event in format YYYY-MM-DD HH:MM:SS. You can use 2023-07-15 14:30:10 for the example .fits file\n",
    "obsTime = getdate(\"2023-07-15 14:30:10\")\n",
    "\n",
    "# Path to the input datasets (where galaxy cat should be for GW case)\n",
    "datasetDir = '../dataset/'\n",
    "\n",
    "# Path to the output folder\n",
    "outDir = './output'\n",
    "\n",
    "# Config file for the tiling scheduling\n",
    "cfgFile = './config/ExampleConfig.ini'\n",
    "\n",
    "# Galaxy catalog name (if no catalog is given, the approach will be 2D)\n",
    "galcatName = \"converted_GLADE.h5\"\n",
    "\n",
    "# Tiles already observed\n",
    "pointingsFile = None\n",
    "\n",
    "# Limit on skyloc to perform a followup\n",
    "locCut = None"
   ]
  },
  {
   "cell_type": "code",
   "execution_count": 12,
   "id": "2ed6a64c-f98c-4c2d-9edf-cd1d38360f5e",
   "metadata": {},
   "outputs": [],
   "source": [
    "ObsArray = ['HESS', 'LST']\n",
    "parameters = []"
   ]
  },
  {
   "cell_type": "code",
   "execution_count": 13,
   "id": "3a0d2a96-9e20-4688-b14a-6f425af2dd0f",
   "metadata": {},
   "outputs": [
    {
     "name": "stdout",
     "output_type": "stream",
     "text": [
      "===========================================================================================\n",
      "parameters ['./configs/FollowupParameters_HESS.ini', './configs/FollowupParameters_LST.ini']\n"
     ]
    }
   ],
   "source": [
    "for i in ObsArray:\n",
    "    parameters.append(\"./configs/FollowupParameters_%s.ini\" % i)\n",
    "print(\"===========================================================================================\")\n",
    "print('parameters', parameters)\n",
    "obsparameters = []"
   ]
  },
  {
   "cell_type": "code",
   "execution_count": 14,
   "id": "aa929f64-da3a-4180-a159-8ea231e8ccbb",
   "metadata": {},
   "outputs": [],
   "source": [
    "for j in range(len(parameters)):\n",
    "    obspar = ObservationParameters()\n",
    "    obspar.add_parsed_args(url, obsTime, datasetDir, galcatName, outDir, pointingsFile, alertType, locCut)\n",
    "    obspar.from_configfile(parameters[j])\n",
    "    obsparameters.append(obspar)"
   ]
  },
  {
   "cell_type": "code",
   "execution_count": 15,
   "id": "9fd228c9-9758-4397-8841-7af1f50d6bb1",
   "metadata": {},
   "outputs": [
    {
     "name": "stdout",
     "output_type": "stream",
     "text": [
      "https://gracedb.ligo.org/api/superevents/S190814bv/files/LALInference.v1.fits.gz\n",
      "The filename is  LALInference.v1.fits.gz\n",
      "curl https://gracedb.ligo.org/api/superevents/S190814bv/files/LALInference.v1.fits.gz -o LALInference.v1.fits.gz\n"
     ]
    },
    {
     "name": "stderr",
     "output_type": "stream",
     "text": [
      "  % Total    % Received % Xferd  Average Speed   Time    Time     Time  Current\n",
      "                                 Dload  Upload   Total   Spent    Left  Speed\n",
      "100 1498k  100 1498k    0     0   736k      0  0:00:02  0:00:02 --:--:--  737k\n"
     ]
    },
    {
     "name": "stdout",
     "output_type": "stream",
     "text": [
      "===========================================================================================\n",
      "../dataset/\n",
      "converted_GLADE.h5\n",
      "obsparameters 2\n",
      "No window found\n",
      "No window found\n",
      "Loading LVC HEALPix map from file: LALInference.v1.fits.gz\n",
      "Event has triggered  Non specified  => distance = 267.40  +- 51.59  Mpc\n"
     ]
    },
    {
     "ename": "ValueError",
     "evalue": "0 is not a valid nside parameter (must be a power of 2, less than 2**30)",
     "output_type": "error",
     "traceback": [
      "\u001b[0;31m---------------------------------------------------------------------------\u001b[0m",
      "\u001b[0;31mValueError\u001b[0m                                Traceback (most recent call last)",
      "Cell \u001b[0;32mIn[15], line 1\u001b[0m\n\u001b[0;32m----> 1\u001b[0m \u001b[43mGetUniversalSchedule\u001b[49m\u001b[43m(\u001b[49m\u001b[43mobsparameters\u001b[49m\u001b[43m)\u001b[49m\n",
      "File \u001b[0;32m~/anaconda3/envs/tilepyenv/lib/python3.9/site-packages/tilepy/include/UniversalScheduleLauncher.py:73\u001b[0m, in \u001b[0;36mGetUniversalSchedule\u001b[0;34m(obsparameters)\u001b[0m\n\u001b[1;32m     71\u001b[0m     \u001b[38;5;28;01mif\u001b[39;00m \u001b[38;5;129;01mnot\u001b[39;00m os\u001b[38;5;241m.\u001b[39mpath\u001b[38;5;241m.\u001b[39mexists(dirName):\n\u001b[1;32m     72\u001b[0m         os\u001b[38;5;241m.\u001b[39mmakedirs(dirName)\n\u001b[0;32m---> 73\u001b[0m     SuggestedPointings, obsparameters \u001b[38;5;241m=\u001b[39m \u001b[43mPGWinFoV_NObs\u001b[49m\u001b[43m(\u001b[49m\n\u001b[1;32m     74\u001b[0m \u001b[43m        \u001b[49m\u001b[43mfilename\u001b[49m\u001b[43m,\u001b[49m\u001b[43m \u001b[49m\u001b[43mObservationTime\u001b[49m\u001b[43m,\u001b[49m\u001b[43m \u001b[49m\u001b[43mobsparameters\u001b[49m\u001b[43m[\u001b[49m\u001b[38;5;241;43m0\u001b[39;49m\u001b[43m]\u001b[49m\u001b[38;5;241;43m.\u001b[39;49m\u001b[43mpointingsFile\u001b[49m\u001b[43m,\u001b[49m\u001b[43m \u001b[49m\u001b[43mdirName\u001b[49m\u001b[43m,\u001b[49m\u001b[43m \u001b[49m\u001b[43mobsparameters\u001b[49m\u001b[43m)\u001b[49m\n\u001b[1;32m     75\u001b[0m \u001b[38;5;28;01mif\u001b[39;00m (\u001b[38;5;28mlen\u001b[39m(SuggestedPointings) \u001b[38;5;241m!=\u001b[39m \u001b[38;5;241m0\u001b[39m):\n\u001b[1;32m     76\u001b[0m     \u001b[38;5;28mprint\u001b[39m(SuggestedPointings)\n",
      "File \u001b[0;32m~/anaconda3/envs/tilepyenv/lib/python3.9/site-packages/tilepy/include/UniversalObservationScheduler.py:126\u001b[0m, in \u001b[0;36mPGWinFoV_NObs\u001b[0;34m(filename, ObservationTime0, PointingFile, dirName, obsparameters)\u001b[0m\n\u001b[1;32m    123\u001b[0m obspar \u001b[38;5;241m=\u001b[39m obsparameters[\u001b[38;5;241m0\u001b[39m]\n\u001b[1;32m    124\u001b[0m tprob, distmu, distsigma, distnorm, detectors, fits_id, thisDistance, thisDistanceErr \u001b[38;5;241m=\u001b[39m LoadHealpixMap(\n\u001b[1;32m    125\u001b[0m     filename)\n\u001b[0;32m--> 126\u001b[0m prob \u001b[38;5;241m=\u001b[39m \u001b[43mhp\u001b[49m\u001b[38;5;241;43m.\u001b[39;49m\u001b[43mpixelfunc\u001b[49m\u001b[38;5;241;43m.\u001b[39;49m\u001b[43mud_grade\u001b[49m\u001b[43m(\u001b[49m\u001b[43mtprob\u001b[49m\u001b[43m,\u001b[49m\u001b[43m \u001b[49m\u001b[43mobspar\u001b[49m\u001b[38;5;241;43m.\u001b[39;49m\u001b[43mreducedNside\u001b[49m\u001b[43m,\u001b[49m\u001b[43m \u001b[49m\u001b[43mpower\u001b[49m\u001b[38;5;241;43m=\u001b[39;49m\u001b[38;5;241;43m-\u001b[39;49m\u001b[38;5;241;43m2\u001b[39;49m\u001b[43m)\u001b[49m\n\u001b[1;32m    127\u001b[0m nside \u001b[38;5;241m=\u001b[39m obspar\u001b[38;5;241m.\u001b[39mreducedNside\n\u001b[1;32m    128\u001b[0m highres \u001b[38;5;241m=\u001b[39m hp\u001b[38;5;241m.\u001b[39mpixelfunc\u001b[38;5;241m.\u001b[39mud_grade(prob, obspar\u001b[38;5;241m.\u001b[39mHRnside, power\u001b[38;5;241m=\u001b[39m\u001b[38;5;241m-\u001b[39m\u001b[38;5;241m2\u001b[39m)\n",
      "File \u001b[0;32m~/anaconda3/envs/tilepyenv/lib/python3.9/site-packages/healpy/pixelfunc.py:304\u001b[0m, in \u001b[0;36maccept_ma.<locals>.wrapper\u001b[0;34m(map_in, *args, **kwds)\u001b[0m\n\u001b[1;32m    302\u001b[0m return_ma \u001b[38;5;241m=\u001b[39m is_ma(map_in)\n\u001b[1;32m    303\u001b[0m m \u001b[38;5;241m=\u001b[39m ma_to_array(map_in)\n\u001b[0;32m--> 304\u001b[0m out \u001b[38;5;241m=\u001b[39m \u001b[43mf\u001b[49m\u001b[43m(\u001b[49m\u001b[43mm\u001b[49m\u001b[43m,\u001b[49m\u001b[43m \u001b[49m\u001b[38;5;241;43m*\u001b[39;49m\u001b[43margs\u001b[49m\u001b[43m,\u001b[49m\u001b[43m \u001b[49m\u001b[38;5;241;43m*\u001b[39;49m\u001b[38;5;241;43m*\u001b[39;49m\u001b[43mkwds\u001b[49m\u001b[43m)\u001b[49m\n\u001b[1;32m    305\u001b[0m \u001b[38;5;28;01mreturn\u001b[39;00m ma(out) \u001b[38;5;28;01mif\u001b[39;00m return_ma \u001b[38;5;28;01melse\u001b[39;00m out\n",
      "File \u001b[0;32m~/anaconda3/envs/tilepyenv/lib/python3.9/site-packages/healpy/pixelfunc.py:1927\u001b[0m, in \u001b[0;36mud_grade\u001b[0;34m(map_in, nside_out, pess, order_in, order_out, power, dtype)\u001b[0m\n\u001b[1;32m   1880\u001b[0m \u001b[38;5;129m@accept_ma\u001b[39m\n\u001b[1;32m   1881\u001b[0m \u001b[38;5;28;01mdef\u001b[39;00m \u001b[38;5;21mud_grade\u001b[39m(\n\u001b[1;32m   1882\u001b[0m     map_in,\n\u001b[0;32m   (...)\u001b[0m\n\u001b[1;32m   1888\u001b[0m     dtype\u001b[38;5;241m=\u001b[39m\u001b[38;5;28;01mNone\u001b[39;00m,\n\u001b[1;32m   1889\u001b[0m ):\n\u001b[1;32m   1890\u001b[0m \u001b[38;5;250m    \u001b[39m\u001b[38;5;124;03m\"\"\"Upgrade or degrade resolution of a map (or list of maps).\u001b[39;00m\n\u001b[1;32m   1891\u001b[0m \n\u001b[1;32m   1892\u001b[0m \u001b[38;5;124;03m    in degrading the resolution, ud_grade sets the value of the superpixel\u001b[39;00m\n\u001b[0;32m   (...)\u001b[0m\n\u001b[1;32m   1925\u001b[0m \u001b[38;5;124;03m            36.5 ,  38.25,  40.  ,  41.75])\u001b[39;00m\n\u001b[1;32m   1926\u001b[0m \u001b[38;5;124;03m    \"\"\"\u001b[39;00m\n\u001b[0;32m-> 1927\u001b[0m     \u001b[43mcheck_nside\u001b[49m\u001b[43m(\u001b[49m\u001b[43mnside_out\u001b[49m\u001b[43m,\u001b[49m\u001b[43m \u001b[49m\u001b[43mnest\u001b[49m\u001b[38;5;241;43m=\u001b[39;49m\u001b[43morder_in\u001b[49m\u001b[43m \u001b[49m\u001b[38;5;241;43m!=\u001b[39;49m\u001b[43m \u001b[49m\u001b[38;5;124;43m\"\u001b[39;49m\u001b[38;5;124;43mRING\u001b[39;49m\u001b[38;5;124;43m\"\u001b[39;49m\u001b[43m)\u001b[49m\n\u001b[1;32m   1928\u001b[0m     typ \u001b[38;5;241m=\u001b[39m maptype(map_in)\n\u001b[1;32m   1929\u001b[0m     \u001b[38;5;28;01mif\u001b[39;00m typ \u001b[38;5;241m<\u001b[39m \u001b[38;5;241m0\u001b[39m:\n",
      "File \u001b[0;32m~/anaconda3/envs/tilepyenv/lib/python3.9/site-packages/healpy/pixelfunc.py:1282\u001b[0m, in \u001b[0;36mcheck_nside\u001b[0;34m(nside, nest)\u001b[0m\n\u001b[1;32m   1280\u001b[0m \u001b[38;5;250m\u001b[39m\u001b[38;5;124;03m\"\"\"Raises exception is nside is not valid\"\"\"\u001b[39;00m\n\u001b[1;32m   1281\u001b[0m \u001b[38;5;28;01mif\u001b[39;00m \u001b[38;5;129;01mnot\u001b[39;00m np\u001b[38;5;241m.\u001b[39mall(isnsideok(nside, nest\u001b[38;5;241m=\u001b[39mnest)):\n\u001b[0;32m-> 1282\u001b[0m     \u001b[38;5;28;01mraise\u001b[39;00m \u001b[38;5;167;01mValueError\u001b[39;00m(\n\u001b[1;32m   1283\u001b[0m         \u001b[38;5;124m\"\u001b[39m\u001b[38;5;132;01m%s\u001b[39;00m\u001b[38;5;124m is not a valid nside parameter (must be a power of 2, less than 2**30)\u001b[39m\u001b[38;5;124m\"\u001b[39m\n\u001b[1;32m   1284\u001b[0m         \u001b[38;5;241m%\u001b[39m \u001b[38;5;28mstr\u001b[39m(nside)\n\u001b[1;32m   1285\u001b[0m     )\n",
      "\u001b[0;31mValueError\u001b[0m: 0 is not a valid nside parameter (must be a power of 2, less than 2**30)"
     ]
    }
   ],
   "source": [
    "GetUniversalSchedule(obsparameters)"
   ]
  }
 ],
 "metadata": {
  "kernelspec": {
   "display_name": "Python 3 (ipykernel)",
   "language": "python",
   "name": "python3"
  },
  "language_info": {
   "codemirror_mode": {
    "name": "ipython",
    "version": 3
   },
   "file_extension": ".py",
   "mimetype": "text/x-python",
   "name": "python",
   "nbconvert_exporter": "python",
   "pygments_lexer": "ipython3",
   "version": "3.9.0"
  }
 },
 "nbformat": 4,
 "nbformat_minor": 5
}
