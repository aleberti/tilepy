{
 "cells": [
  {
   "cell_type": "code",
   "execution_count": 1,
   "metadata": {},
   "outputs": [
    {
     "name": "stderr",
     "output_type": "stream",
     "text": [
      "/opt/miniconda3/envs/tilepyenv_1/lib/python3.9/site-packages/tqdm/auto.py:21: TqdmWarning: IProgress not found. Please update jupyter and ipywidgets. See https://ipywidgets.readthedocs.io/en/stable/user_install.html\n",
      "  from .autonotebook import tqdm as notebook_tqdm\n"
     ]
    }
   ],
   "source": [
    "# Import main packages \n",
    "from tilepy.include.ObservationScheduler import getSchedule\n",
    "from tilepy.include.PointingTools import ObservationParameters, NextWindowTools, getdate\n",
    "import time\n",
    "import argparse\n",
    "import os\n",
    "from pathlib import Path\n"
   ]
  },
  {
   "cell_type": "code",
   "execution_count": 2,
   "metadata": {},
   "outputs": [],
   "source": [
    "from IPython.core.interactiveshell import InteractiveShell\n",
    "InteractiveShell.ast_node_interactivity = \"all\""
   ]
  },
  {
   "cell_type": "markdown",
   "metadata": {},
   "source": [
    "### Set of inputs needed to run the code"
   ]
  },
  {
   "cell_type": "code",
   "execution_count": 3,
   "metadata": {},
   "outputs": [],
   "source": [
    "# Type of followup, options: gbm, gbmpng or gw\n",
    "alertType = 'gw'\n",
    "\n",
    "# The url to the FITS file with the sky localization, e.g.for GW https://urlpath/Bayestar.fits.gz'\n",
    "# You can use https://gracedb.ligo.org/api/superevents/MS230802n/files/bayestar.multiorder.fits,0\n",
    "url =  'https://gracedb.ligo.org/api/superevents/MS230802n/files/bayestar.multiorder.fits,0'\n",
    "\n",
    "# Date and time of the event in format YYYY-MM-DD HH:MM:SS. You can use 2023-07-15 14:30:10 for the example .fits file\n",
    "obsTime = getdate(\"2023-07-15 14:30:10\")\n",
    "\n",
    "# Path to the input datasets (where galaxy cat should be for GW case)\n",
    "datasetDir = '../dataset/'\n",
    "\n",
    "# Path to the output folder\n",
    "outDir = './output'\n",
    "\n",
    "# Config file for the tiling scheduling\n",
    "cfgFile = './config/ExampleConfig.ini'\n",
    "\n",
    "# Galaxy catalog name (if no catalog is given, the approach will be 2D)\n",
    "galcatName = 'Gladeplus.h5'\n",
    "\n",
    "# Tiles already observed\n",
    "pointingsFile = None\n",
    "\n",
    "# Limit on skyloc to perform a followup\n",
    "locCut = None"
   ]
  },
  {
   "cell_type": "code",
   "execution_count": 4,
   "metadata": {},
   "outputs": [],
   "source": [
    "# Create forder for output\n",
    "if not os.path.exists(outDir):\n",
    "    os.makedirs(outDir)"
   ]
  },
  {
   "cell_type": "code",
   "execution_count": 5,
   "metadata": {},
   "outputs": [],
   "source": [
    "#Parse the parameters \n",
    "obspar = ObservationParameters()\n",
    "obspar.add_parsed_args(url,obsTime,datasetDir,galcatName,outDir,pointingsFile,alertType,locCut)\n",
    "obspar.from_configfile(cfgFile)\n"
   ]
  },
  {
   "cell_type": "markdown",
   "metadata": {},
   "source": [
    "### Run the scheduling"
   ]
  },
  {
   "cell_type": "code",
   "execution_count": 7,
   "metadata": {},
   "outputs": [
    {
     "name": "stdout",
     "output_type": "stream",
     "text": [
      "The filename is  bayestar.multiorder.fits,0\n",
      "curl https://gracedb.ligo.org/api/superevents/MS230802n/files/bayestar.multiorder.fits,0 -o bayestar.multiorder.fits,0\n"
     ]
    },
    {
     "name": "stderr",
     "output_type": "stream",
     "text": [
      "  % Total    % Received % Xferd  Average Speed   Time    Time     Time  Current\n",
      "                                 Dload  Upload   Total   Spent    Left  Speed\n",
      "100  759k  100  759k    0     0  34053      0  0:00:22  0:00:22 --:--:-- 74671\n"
     ]
    },
    {
     "name": "stdout",
     "output_type": "stream",
     "text": [
      "reducing HRnside to the value from the original map: NSIDE= 256\n",
      "===========================================================================================\n",
      "===========================================================================================\n",
      "Starting the 3D pointing calculation with the following parameters\n",
      "\n",
      "Filename:  MS230802n\n",
      "Date:  2023-07-15 14:30:10\n",
      "Previous pointings:  None\n",
      "Catalog:  ../dataset/Gladeplus.h5\n",
      "Dataset:  ../dataset/\n",
      "Output:  ./output/MS230802n\n",
      "Loading galaxy catalogue from ../dataset/Gladeplus.h5\n",
      "done loading galaxies\n",
      "Loading map from  bayestar.multiorder.fits,0\n",
      "Loading LVC HEALPix map from file: bayestar.multiorder.fits,0\n",
      "Event has triggered  H1,L1  => distance = 129.75  +- 34.04  Mpc\n",
      "Found a 3D reconstruction\n",
      "No pointings were given to be substracted\n",
      "----------   NEW FOLLOW-UP ATTEMPT   ----------\n",
      "maxRuns:  20 MinimumProbCutForCatalogue:  0.01\n",
      "yo are here targetted True\n",
      "finalGals no_GLADE      RAJ2000       ...         dp_dV                 Alt        \n",
      "-------- ------------------ ... ---------------------- ------------------\n",
      " 2452844         208.201447 ... 4.4816042948628235e-06  45.93781473836147\n",
      " 1346802            209.577 ... 4.4775906124905875e-06  45.31459133989119\n",
      " 2447606            207.738 ...  4.335243484152707e-06   45.3387046313415\n",
      " 1327023             207.93 ... 4.3331752362259145e-06  45.54699541799147\n",
      " 2447608              207.8 ...  4.326175656839524e-06  45.42496798696933\n",
      " 1328355             208.54 ...  4.250688242234825e-06 46.247913564745396\n",
      " 1158123         208.165756 ...  4.210578253557304e-06  45.88249763864592\n",
      " 1341250             208.26 ... 4.1819273038641136e-06  45.97886349911703\n",
      " 2447261            207.974 ...  4.123943281537619e-06 45.673300245651824\n",
      " 1261743            208.219 ...  3.970049798818178e-06  45.99336344070331\n",
      "     ...                ... ...                    ...                ...\n",
      "13399064 198.30196999999998 ...  5.995823644463082e-08  49.57601105862014\n",
      "  104668            205.852 ...  5.994254521039196e-08  50.79256905265845\n",
      "   83507            191.676 ...  5.988239430261391e-08 45.070559712960716\n",
      " 1051100         207.044754 ...   5.97842637069845e-08  48.48531489175257\n",
      "14162875        210.4988562 ...  5.972504794111828e-08  51.13532514156993\n",
      "   86494             208.64 ... 5.9530524413686424e-08 50.598799019204556\n",
      "   83500            191.159 ...   5.90063093982371e-08 46.483622632489784\n",
      "12895367        190.4276866 ...   5.87219728932204e-08  45.12666792603763\n",
      "14397214        213.5146298 ...  5.856295493380571e-08 45.772422872072354\n",
      " 1170629         213.819931 ...  5.843673201713887e-08  47.70334237562788\n",
      " 1182623         213.323425 ... 5.8305382083477546e-08  45.08510641018827\n",
      "Length = 1372 rows         dp_dV        \n",
      "---------------------\n",
      "5.829811049824857e-07\n",
      "We are in round 1\n",
      "no_GLADE  RAJ2000    DEJ2000  ...         dp_dV                 Alt       \n",
      "-------- ---------- --------- ... ---------------------- -----------------\n",
      " 2452844 208.201447 -1.955314 ... 4.4816042948628235e-06 45.93781473836147\n"
     ]
    },
    {
     "ename": "TypeError",
     "evalue": "ComputeProbGalTargetted() takes 11 positional arguments but 12 were given",
     "output_type": "error",
     "traceback": [
      "\u001b[0;31m---------------------------------------------------------------------------\u001b[0m",
      "\u001b[0;31mTypeError\u001b[0m                                 Traceback (most recent call last)",
      "Cell \u001b[0;32mIn[7], line 2\u001b[0m\n\u001b[1;32m      1\u001b[0m \u001b[39m# Run the scheduler\u001b[39;00m\n\u001b[0;32m----> 2\u001b[0m getSchedule(obspar)\n",
      "File \u001b[0;32m/opt/miniconda3/envs/tilepyenv_1/lib/python3.9/site-packages/tilepy/include/ObservationScheduler.py:93\u001b[0m, in \u001b[0;36mgetSchedule\u001b[0;34m(obspar)\u001b[0m\n\u001b[1;32m     90\u001b[0m \u001b[39mprint\u001b[39m(\u001b[39m\"\u001b[39m\u001b[39mDataset: \u001b[39m\u001b[39m\"\u001b[39m, obspar\u001b[39m.\u001b[39mdatasetDir)\n\u001b[1;32m     91\u001b[0m \u001b[39mprint\u001b[39m(\u001b[39m\"\u001b[39m\u001b[39mOutput: \u001b[39m\u001b[39m\"\u001b[39m, outputDir)\n\u001b[0;32m---> 93\u001b[0m SuggestedPointings, cat \u001b[39m=\u001b[39m PGalinFoV(\n\u001b[1;32m     94\u001b[0m     filename, obspar\u001b[39m.\u001b[39;49mobsTime, obspar\u001b[39m.\u001b[39;49mpointingsFile, galaxies, obspar, dirName)\n\u001b[1;32m     96\u001b[0m \u001b[39mprint\u001b[39m(SuggestedPointings)\n\u001b[1;32m     97\u001b[0m \u001b[39mprint\u001b[39m(\u001b[39m\"\u001b[39m\u001b[39m===========================================================================================\u001b[39m\u001b[39m\"\u001b[39m)\n",
      "File \u001b[0;32m/opt/miniconda3/envs/tilepyenv_1/lib/python3.9/site-packages/tilepy/include/TilingDetermination.py:422\u001b[0m, in \u001b[0;36mPGalinFoV\u001b[0;34m(filename, ObservationTime0, PointingFile, galFile, obspar, dirName)\u001b[0m\n\u001b[1;32m    420\u001b[0m \u001b[39mprint\u001b[39m(\u001b[39m\"\u001b[39m\u001b[39mWe are in round 1\u001b[39m\u001b[39m\"\u001b[39m)\n\u001b[1;32m    421\u001b[0m \u001b[39mprint\u001b[39m(finalGals[:\u001b[39m1\u001b[39m])\n\u001b[0;32m--> 422\u001b[0m p_gal, p_gw, tGals_aux, alreadysumipixarray1 \u001b[39m=\u001b[39m ComputeProbGalTargetted(\n\u001b[1;32m    423\u001b[0m         prob, ObservationTime, finalGals, visiGals, tGals_aux, sum_dP_dV, alreadysumipixarray1, nside, minz, obspar, counter, dirName)\n\u001b[1;32m    424\u001b[0m RAarray\u001b[39m.\u001b[39mappend(\u001b[39mfloat\u001b[39m(\u001b[39m'\u001b[39m\u001b[39m{:3.4f}\u001b[39;00m\u001b[39m'\u001b[39m\u001b[39m.\u001b[39mformat(\n\u001b[1;32m    425\u001b[0m     \u001b[39mfloat\u001b[39m(finalGals[\u001b[39m'\u001b[39m\u001b[39mRAJ2000\u001b[39m\u001b[39m'\u001b[39m][:\u001b[39m1\u001b[39m]))))\n\u001b[1;32m    426\u001b[0m DECarray\u001b[39m.\u001b[39mappend(\u001b[39mfloat\u001b[39m(\u001b[39m'\u001b[39m\u001b[39m{:3.4f}\u001b[39;00m\u001b[39m'\u001b[39m\u001b[39m.\u001b[39mformat(\n\u001b[1;32m    427\u001b[0m     \u001b[39mfloat\u001b[39m(finalGals[\u001b[39m'\u001b[39m\u001b[39mDEJ2000\u001b[39m\u001b[39m'\u001b[39m][:\u001b[39m1\u001b[39m]))))\n",
      "\u001b[0;31mTypeError\u001b[0m: ComputeProbGalTargetted() takes 11 positional arguments but 12 were given"
     ]
    }
   ],
   "source": [
    "# Run the scheduler\n",
    "getSchedule(obspar)"
   ]
  },
  {
   "cell_type": "code",
   "execution_count": null,
   "metadata": {},
   "outputs": [],
   "source": []
  },
  {
   "cell_type": "code",
   "execution_count": null,
   "metadata": {},
   "outputs": [],
   "source": []
  },
  {
   "cell_type": "code",
   "execution_count": null,
   "metadata": {},
   "outputs": [],
   "source": []
  }
 ],
 "metadata": {
  "kernelspec": {
   "display_name": "Python 3 (ipykernel)",
   "language": "python",
   "name": "python3"
  },
  "language_info": {
   "codemirror_mode": {
    "name": "ipython",
    "version": 3
   },
   "file_extension": ".py",
   "mimetype": "text/x-python",
   "name": "python",
   "nbconvert_exporter": "python",
   "pygments_lexer": "ipython3",
   "version": "3.9.0"
  },
  "vscode": {
   "interpreter": {
    "hash": "27b68d8d765e3bcc7497bdaa8796e67fcbf6255f91f21a56387fb4d1cc5ead39"
   }
  }
 },
 "nbformat": 4,
 "nbformat_minor": 4
}
